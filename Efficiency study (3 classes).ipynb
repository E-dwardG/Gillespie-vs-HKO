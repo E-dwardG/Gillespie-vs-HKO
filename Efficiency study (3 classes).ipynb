{
 "cells": [
  {
   "cell_type": "markdown",
   "id": "3a0518ea-163b-463e-819d-3d1e42cdfc22",
   "metadata": {},
   "source": [
    "Below is our imports, parameters and the find function"
   ]
  },
  {
   "cell_type": "code",
   "execution_count": 1,
   "id": "63fbaf8e-5339-40c6-8b54-9b19587b0adc",
   "metadata": {
    "tags": []
   },
   "outputs": [],
   "source": [
    "import math\n",
    "import numpy as np\n",
    "import matplotlib.pyplot as plt\n",
    "from timeit import default_timer as timer\n",
    "from numba import jit\n",
    "from matplotlib.pyplot import figure\n",
    "\n",
    "#alpha is the rate at which members of our population age up from young to old\n",
    "alpha = 0.01\n",
    "#beta is the infection rate. First input is for the young, second for the old. This is the same for most of these factors\n",
    "beta = np.array((1, 1, 1))\n",
    "#gamma is the recovery rate\n",
    "gamma = np.array((1/50, 1/50, 1/50))\n",
    "#mu is the death rate. Rows represent each infection state, while columns represent age\n",
    "mu = np.array([[2e-4, 2e-4, 2e-4], [2e-4, 2e-4, 2e-4], [2e-4, 2e-4, 2e-4]])\n",
    "birth_rate = 0.001\n",
    "\n",
    "tau = 0.5\n",
    "ND = MaxTime = 2 * 365\n",
    "Number_Age_Classes = 3\n",
    "timestep=0.0\n",
    "\n",
    "@jit(nopython=True)\n",
    "def find(condition):\n",
    "    res, = np.nonzero(np.ravel(condition))\n",
    "    return res"
   ]
  },
  {
   "cell_type": "markdown",
   "id": "9f18462b-a9f3-4d98-8aa7-d06dcdd87aeb",
   "metadata": {},
   "source": [
    "Next is Gillespie"
   ]
  },
  {
   "cell_type": "code",
   "execution_count": 2,
   "id": "2a0ff6b8-3191-461c-b327-126882b96b65",
   "metadata": {
    "tags": []
   },
   "outputs": [],
   "source": [
    "def Stochastic_equations_Gillespie(INP,ts): \n",
    "    Rate = np.zeros((28))\n",
    "    #16 is the number of rules, 4 the number of infection states\n",
    "    Pop_Change = np.zeros((28, 4, Number_Age_Classes))\n",
    "    N = np.sum(INP[0]+INP[1]+INP[2])\n",
    "    #rule 1: S to S (susceptible ageing)\n",
    "    #subrule 1: Y to A\n",
    "    Rate[0] = alpha * INP[0][0]\n",
    "    Pop_Change[0,:] = np.array([[-1,+1,0], [0,0,0], [0,0,0], [0,0,0]])\n",
    "    #subrule 2: A to O\n",
    "    Rate[1] = alpha * INP[0][1]\n",
    "    Pop_Change[1,:] = np.array([[0,-1,+1], [0,0,0], [0,0,0], [0,0,0]])\n",
    "    \n",
    "    #rule 2: I+S to I+I (infection)\n",
    "    #subrule 1: Y+Y (young infected by young)\n",
    "    Rate[2] = (beta[0]**2) * INP[0][0] * INP[1][0] / N\n",
    "    Pop_Change[2,:] = np.array([[-1,0,0], [+1,0,0], [0,0,0], [0,0,0]])\n",
    "    #subrule 2: A+Y (young infected by adult)\n",
    "    Rate[3] = (beta[0]*beta[1]) * INP[1][1] * INP[0][0] / N\n",
    "    Pop_Change[3,:] = np.array([[-1,0,0], [+1,0,0], [0,0,0], [0,0,0]])\n",
    "    #subrule 3: O+Y (young infected by old)\n",
    "    Rate[4] = (beta[0]*beta[2]) * INP[1][2] * INP[0][0] / N\n",
    "    Pop_Change[4,:] = np.array([[-1,0,0], [+1,0,0], [0,0,0], [0,0,0]])\n",
    "    #subrule 4: Y+A (adult infected by young)\n",
    "    Rate[5] = (beta[0]*beta[1]) * INP[0][1] * INP[1][0] / N\n",
    "    Pop_Change[5,:] = np.array([[0,-1,0], [0,+1,0], [0,0,0], [0,0,0]])\n",
    "    #subrule 5: A+A (adult infected by adult)\n",
    "    Rate[6] = (beta[1]**2) * INP[0][1] * INP[1][1] / N\n",
    "    Pop_Change[6,:] = np.array([[0,-1,0], [0,+1,0], [0,0,0], [0,0,0]])\n",
    "    #subrule 6: O+A (adult infected by old)\n",
    "    Rate[7] = (beta[1]*beta[2]) * INP[0][1] * INP[1][2]\n",
    "    Pop_Change[7,:] = np.array([[0,-1,0], [0,+1,0], [0,0,0], [0,0,0]])\n",
    "    #subrule 7: Y+O (old infected by young)\n",
    "    Rate[8] = (beta[0]*beta[2]) * INP[0][2] * INP[1][0]\n",
    "    Pop_Change[8,:] = np.array([[0,0,-1], [0,0,+1], [0,0,0], [0,0,0]])\n",
    "    #subrule 8: A+O (old infected by adult)\n",
    "    Rate[9] = (beta[1]*beta[2]) * INP[0][2] * INP[1][1]\n",
    "    Pop_Change[9,:] = np.array([[0,0,-1], [0,0,+1], [0,0,0], [0,0,0]])\n",
    "    #subrule 9: O+O (old infected by old)\n",
    "    Rate[10] = (beta[2]**2) * INP[0][2] * INP[1][2]\n",
    "    Pop_Change[10,:] = np.array([[0,0,-1], [0,0,+1], [0,0,0], [0,0,0]])\n",
    "    \n",
    "    \n",
    "    #rule 3: S to D (susceptible death)\n",
    "    #subrule 1: Y\n",
    "    Rate[11] = mu[0][0] * INP[0][0]\n",
    "    Pop_Change[11,:] = np.array([[-1,0,0], [0,0,0], [0,0,0], [+1,0,0]])\n",
    "    #subrule 2: A\n",
    "    Rate[12] = mu[0][1] * INP[0][1]\n",
    "    Pop_Change[12,:] = np.array([[0,-1,0], [0,0,0], [0,0,0], [0,+1,0]])\n",
    "    #subrule 3: O\n",
    "    Rate[13] = mu[0][2] * INP[0][2]\n",
    "    Pop_Change[13,:] = np.array([[0,0,-1], [0,0,0], [0,0,0], [0,0,+1]])\n",
    "    \n",
    "    #rule 4: I to I (infected ageing)\n",
    "    #subrule 1: Y to A\n",
    "    Rate[14] = alpha * INP[1][0]\n",
    "    Pop_Change[14,:] = np.array([[0,0,0], [-1,+1,0], [0,0,0], [0,0,0]])\n",
    "    #subrule 2: A to O\n",
    "    Rate[15] = alpha * INP[1][1]\n",
    "    Pop_Change[15,:] = np.array([[0,0,0], [0,-1,+1], [0,0,0], [0,0,0]])\n",
    "    \n",
    "    #rule 5: I to R (infected recovery)\n",
    "    #subrule 1: Y\n",
    "    Rate[16] = gamma[0] * INP[1][0]\n",
    "    Pop_Change[16,:] = np.array([[0,0,0], [-1,0,0], [+1,0,0], [0,0,0]])\n",
    "    #subrule 2: A\n",
    "    Rate[17] = gamma[1] * INP[1][1]\n",
    "    Pop_Change[17,:] = np.array([[0,0,0], [0,-1,0], [0,+1,0], [0,0,0]])\n",
    "    #subrule 3: O\n",
    "    Rate[18] = gamma[2] * INP[1][2]\n",
    "    Pop_Change[18,:] = np.array([[0,0,0], [0,0,-1], [0,0,+1], [0,0,0]])\n",
    "    \n",
    "    \n",
    "    #rule 6: I to D (infected death)\n",
    "    #subrule 1: Y\n",
    "    Rate[19] = mu[1][0] * INP[1][0]\n",
    "    Pop_Change[19,:] = np.array([[0,0,0], [-1,0,0], [0,0,0], [+1,0,0]])\n",
    "    #subrule 2: A\n",
    "    Rate[20] = mu[1][1] * INP[1][1]\n",
    "    Pop_Change[20,:] = np.array([[0,0,0], [0,-1,0], [0,0,0], [0,+1,0]])\n",
    "    #subrule 3: O\n",
    "    Rate[21] = mu[1][2] * INP[1][2]\n",
    "    Pop_Change[21,:] = np.array([[0,0,0], [0,0,-1], [0,0,0], [0,0,+1]])\n",
    "    \n",
    "    #rule 7: R to R (recovered ageing)\n",
    "    #subrule 1; Y to A\n",
    "    Rate[22] = alpha * INP[2][0]\n",
    "    Pop_Change[22,:] = np.array([[0,0,0], [0,0,0], [-1,+1,0], [0,0,0]])\n",
    "    #subrule 1; A to O\n",
    "    Rate[23] = alpha * INP[2][1]\n",
    "    Pop_Change[23,:] = np.array([[0,0,0], [0,0,0], [0,-1,+1], [0,0,0]])\n",
    "    \n",
    "    #rule 8: R to D (recovered death)\n",
    "    #subrule 1: Y\n",
    "    Rate[24] = mu[2][0] * INP[2][0]\n",
    "    Pop_Change[24,:] = np.array([[0,0,0], [0,0,0], [-1,0,0], [+1,0,0]])\n",
    "    #subrule 2: A\n",
    "    Rate[25] = mu[2][1] * INP[2][1]\n",
    "    Pop_Change[25,:] = np.array([[0,0,0], [0,0,0], [0,-1,0], [0,+1,0]])\n",
    "    #subrule 3: O\n",
    "    Rate[26] = mu[2][2] * INP[2][2]\n",
    "    Pop_Change[26,:] = np.array([[0,0,0], [0,0,0], [0,0,-1], [0,0,+1]])\n",
    "    \n",
    "    #rule 9: Birth: \n",
    "    #subrule 1:\n",
    "    Rate[27] = birth_rate * (INP[0]+INP[1]+INP[2])[1]\n",
    "    Pop_Change[27,:] = np.array([[+1,0,0], [0,0,0], [0,0,0], [0,0,0]])\n",
    "    \n",
    "    r1 = np.random.rand() \n",
    "    r2 = np.random.rand()\n",
    "    ts = -np.log(r1) / (np.sum(Rate));\n",
    "    #decides what equation to use\n",
    "    m1 = min(find(np.cumsum(Rate) >= np.sum(Rate) * r2));\n",
    "    INP += Pop_Change[m1, :]\n",
    "    return [INP,ts]\n",
    "\n",
    "def Stochastic_Iteration_Gillespie(INPUT):\n",
    "    counter = 0\n",
    "    ts = 0\n",
    "    T = np.array([0])\n",
    "    S = np.array([[0, 0, 0]])\n",
    "    I = np.array([[0, 0, 0]])\n",
    "    R = np.array([[0, 0, 0]])\n",
    "    D = np.array([[0, 0, 0]])\n",
    "    while T[counter] < ND:\n",
    "        counter+=1\n",
    "        T = np.concatenate((T, np.array([T[counter-1]+ts])))\n",
    "        S = np.concatenate((S, np.array([INPUT[0]])))\n",
    "        I = np.concatenate((I, np.array([INPUT[1]])))\n",
    "        R = np.concatenate((R, np.array([INPUT[2]])))\n",
    "        D = np.concatenate((D, np.array([INPUT[3]])))\n",
    "        [INPUT,ts] = Stochastic_equations_Gillespie(INPUT,ts)\n",
    "        counter+=1\n",
    "        T = np.concatenate((T, np.array([T[counter-1]])))\n",
    "        S = np.concatenate((S, np.array([INPUT[0]])))\n",
    "        I = np.concatenate((I, np.array([INPUT[1]])))\n",
    "        R = np.concatenate((R, np.array([INPUT[2]])))\n",
    "        D = np.concatenate((D, np.array([INPUT[3]])))\n",
    "        #print(T, S, I, R, D)\n",
    "    return [T,S,I,R,D]\n",
    "\n",
    "def Gillespie(INPUT):\n",
    "    start = timer()\n",
    "    [T,S,I,R,D] = Stochastic_Iteration_Gillespie(INPUT)\n",
    "    end = timer()\n",
    "    completion_time = {end - start}\n",
    "    #print(\"I just did a Gillespie run with\", np.sum(INPUT), \"people, that took\", completion_time, \"long\")\n",
    "    return [T,S,I,R,D], sorted(completion_time)[0]"
   ]
  },
  {
   "cell_type": "markdown",
   "id": "4d42bd74-c16c-4752-89d6-f361bc75959a",
   "metadata": {},
   "source": [
    "Finally we have the HKO method"
   ]
  },
  {
   "cell_type": "code",
   "execution_count": 3,
   "id": "3748ea99-ad3d-4a9e-a2df-bbe836351ef6",
   "metadata": {
    "tags": []
   },
   "outputs": [],
   "source": [
    "def Stochastic_equations_HKO(INP,ts): \n",
    "    Rate = np.zeros((9))\n",
    "    SubRate = np.zeros((9, 9))\n",
    "    #9 is the number of rules, 9 the max number of subrules, 4 the number of infection states\n",
    "    Pop_Change = np.zeros((9, 9, 4, Number_Age_Classes))\n",
    "    N = np.sum(INP[0]+INP[1]+INP[2])\n",
    "    #rule 1: S to S (susceptible ageing)\n",
    "    #subrule 1: Y to A\n",
    "    SubRate[0, 0] = alpha * INP[0][0]\n",
    "    Pop_Change[0, 0,:] = np.array([[-1,+1,0], [0,0,0], [0,0,0], [0,0,0]])\n",
    "    #subrule 2: A to O\n",
    "    SubRate[0, 1] = alpha * INP[0][1]\n",
    "    Pop_Change[0, 1,:] = np.array([[0,-1,+1], [0,0,0], [0,0,0], [0,0,0]])\n",
    "    \n",
    "    #rule 2: I+S to I+I (infection)\n",
    "    #subrule 1: Y+Y (young infected by young)\n",
    "    SubRate[1, 0] = (beta[0]**2) * INP[0][0] * INP[1][0] / N\n",
    "    Pop_Change[1, 0,:] = np.array([[-1,0,0], [+1,0,0], [0,0,0], [0,0,0]])\n",
    "    #subrule 2: A+Y (young infected by adult)\n",
    "    SubRate[1, 1] = (beta[0]*beta[1]) * INP[1][1] * INP[0][0] / N\n",
    "    Pop_Change[1, 1,:] = np.array([[-1,0,0], [+1,0,0], [0,0,0], [0,0,0]])\n",
    "    #subrule 3: O+Y (young infected by old)\n",
    "    SubRate[1, 2] = (beta[0]*beta[2]) * INP[1][2] * INP[0][0] / N\n",
    "    Pop_Change[1, 2,:] = np.array([[-1,0,0], [+1,0,0], [0,0,0], [0,0,0]])\n",
    "    #subrule 4: Y+A (adult infected by young)\n",
    "    SubRate[1, 3] = (beta[0]*beta[1]) * INP[0][1] * INP[1][0] / N\n",
    "    Pop_Change[1, 3,:] = np.array([[0,-1,0], [0,+1,0], [0,0,0], [0,0,0]])\n",
    "    #subrule 5: A+A (adult infected by adult)\n",
    "    SubRate[1, 4] = (beta[1]**2) * INP[0][1] * INP[1][1] / N\n",
    "    Pop_Change[1, 4,:] = np.array([[0,-1,0], [0,+1,0], [0,0,0], [0,0,0]])\n",
    "    #subrule 6: O+A (adult infected by old)\n",
    "    SubRate[1, 5] = (beta[1]*beta[2]) * INP[0][1] * INP[1][2]\n",
    "    Pop_Change[1, 5,:] = np.array([[0,-1,0], [0,+1,0], [0,0,0], [0,0,0]])\n",
    "    #subrule 7: Y+O (old infected by young)\n",
    "    SubRate[1, 6] = (beta[0]*beta[2]) * INP[0][2] * INP[1][0]\n",
    "    Pop_Change[1, 6,:] = np.array([[0,0,-1], [0,0,+1], [0,0,0], [0,0,0]])\n",
    "    #subrule 8: A+O (old infected by adult)\n",
    "    SubRate[1, 7] = (beta[1]*beta[2]) * INP[0][2] * INP[1][1]\n",
    "    Pop_Change[1, 7,:] = np.array([[0,0,-1], [0,0,+1], [0,0,0], [0,0,0]])\n",
    "    #subrule 9: O+O (old infected by old)\n",
    "    SubRate[1, 8] = (beta[2]**2) * INP[0][2] * INP[1][2]\n",
    "    Pop_Change[1, 8,:] = np.array([[0,0,-1], [0,0,+1], [0,0,0], [0,0,0]])\n",
    "    \n",
    "    \n",
    "    #rule 3: S to D (susceptible death)\n",
    "    #subrule 1: Y\n",
    "    SubRate[2, 0] = mu[0][0] * INP[0][0]\n",
    "    Pop_Change[2, 0,:] = np.array([[-1,0,0], [0,0,0], [0,0,0], [+1,0,0]])\n",
    "    #subrule 2: A\n",
    "    SubRate[2, 1] = mu[0][1] * INP[0][1]\n",
    "    Pop_Change[2, 1,:] = np.array([[0,-1,0], [0,0,0], [0,0,0], [0,+1,0]])\n",
    "    #subrule 3: O\n",
    "    SubRate[2, 2] = mu[0][2] * INP[0][2]\n",
    "    Pop_Change[2, 2,:] = np.array([[0,0,-1], [0,0,0], [0,0,0], [0,0,+1]])\n",
    "    \n",
    "    #rule 4: I to I (infected ageing)\n",
    "    #subrule 1: Y to A\n",
    "    SubRate[3, 0] = alpha * INP[1][0]\n",
    "    Pop_Change[3, 0,:] = np.array([[0,0,0], [-1,+1,0], [0,0,0], [0,0,0]])\n",
    "    #subrule 2: A to O\n",
    "    SubRate[3, 1] = alpha * INP[1][1]\n",
    "    Pop_Change[3, 1,:] = np.array([[0,0,0], [0,-1,+1], [0,0,0], [0,0,0]])\n",
    "    \n",
    "    #rule 5: I to R (infected recovery)\n",
    "    #subrule 1: Y\n",
    "    SubRate[4, 0] = gamma[0] * INP[1][0]\n",
    "    Pop_Change[4, 0,:] = np.array([[0,0,0], [-1,0,0], [+1,0,0], [0,0,0]])\n",
    "    #subrule 2: A\n",
    "    SubRate[4, 1] = gamma[1] * INP[1][1]\n",
    "    Pop_Change[4, 1,:] = np.array([[0,0,0], [0,-1,0], [0,+1,0], [0,0,0]])\n",
    "    #subrule 3: O\n",
    "    SubRate[4, 2] = gamma[2] * INP[1][2]\n",
    "    Pop_Change[4, 2,:] = np.array([[0,0,0], [0,0,-1], [0,0,+1], [0,0,0]])\n",
    "    \n",
    "    \n",
    "    #rule 6: I to D (infected death)\n",
    "    #subrule 1: Y\n",
    "    SubRate[5, 0] = mu[1][0] * INP[1][0]\n",
    "    Pop_Change[5, 0,:] = np.array([[0,0,0], [-1,0,0], [0,0,0], [+1,0,0]])\n",
    "    #subrule 2: A\n",
    "    SubRate[5, 1] = mu[1][1] * INP[1][1]\n",
    "    Pop_Change[5, 1,:] = np.array([[0,0,0], [0,-1,0], [0,0,0], [0,+1,0]])\n",
    "    #subrule 3: O\n",
    "    SubRate[5, 2] = mu[1][2] * INP[1][2]\n",
    "    Pop_Change[5, 2,:] = np.array([[0,0,0], [0,0,-1], [0,0,0], [0,0,+1]])\n",
    "    \n",
    "    #rule 7: R to R (recovered ageing)\n",
    "    #subrule 1; Y to A\n",
    "    SubRate[6, 0] = alpha * INP[2][0]\n",
    "    Pop_Change[6, 0,:] = np.array([[0,0,0], [0,0,0], [-1,+1,0], [0,0,0]])\n",
    "    #subrule 1; A to O\n",
    "    SubRate[6, 1] = alpha * INP[2][1]\n",
    "    Pop_Change[6, 1,:] = np.array([[0,0,0], [0,0,0], [0,-1,+1], [0,0,0]])\n",
    "    \n",
    "    #rule 8: R to D (recovered death)\n",
    "    #subrule 1: Y\n",
    "    SubRate[7, 0] = mu[2][0] * INP[2][0]\n",
    "    Pop_Change[7, 0,:] = np.array([[0,0,0], [0,0,0], [-1,0,0], [+1,0,0]])\n",
    "    #subrule 2: A\n",
    "    SubRate[7, 1] = mu[2][1] * INP[2][1]\n",
    "    Pop_Change[7, 1,:] = np.array([[0,0,0], [0,0,0], [0,-1,0], [0,+1,0]])\n",
    "    #subrule 3: O\n",
    "    SubRate[7, 2] = mu[2][2] * INP[2][2]\n",
    "    Pop_Change[7, 2,:] = np.array([[0,0,0], [0,0,0], [0,0,-1], [0,0,+1]])\n",
    "    \n",
    "    #rule 9: Birth: \n",
    "    #subrule 1:\n",
    "    SubRate[8, 0] = birth_rate * (INP[0]+INP[1]+INP[2])[1]\n",
    "    Pop_Change[8, 0,:] = np.array([[+1,0,0], [0,0,0], [0,0,0], [0,0,0]])\n",
    "    \n",
    "    \n",
    "    for i in range(len(Rate)):\n",
    "        Rate[i] = np.sum(SubRate[i])\n",
    "    r1 = np.random.rand() \n",
    "    r2 = np.random.rand()\n",
    "    ts = -np.log(r1) / (np.sum(Rate));\n",
    "    #decides what equation to use\n",
    "    m1 = min(find(np.cumsum(Rate) >= np.sum(Rate) * r2));\n",
    "    if m1 > 0:\n",
    "        r2 = r2 - (np.cumsum(Rate)[m1-1]/np.sum(Rate))\n",
    "    m2 = min(find(np.cumsum(SubRate[m1]) >= np.sum(Rate) * r2));\n",
    "    INP += Pop_Change[m1, m2, :]\n",
    "    return [INP,ts]\n",
    "\n",
    "def Stochastic_Iteration_HKO(INPUT):\n",
    "    counter = 0\n",
    "    ts = 0\n",
    "    T = np.array([0])\n",
    "    S = np.array([[0, 0, 0]])\n",
    "    I = np.array([[0, 0, 0]])\n",
    "    R = np.array([[0, 0, 0]])\n",
    "    D = np.array([[0, 0, 0]])\n",
    "    while T[counter] < ND:\n",
    "        counter+=1\n",
    "        #print(INPUT)\n",
    "        T = np.concatenate((T, np.array([T[counter-1]+ts])))\n",
    "        S = np.concatenate((S, np.array([INPUT[0]])))\n",
    "        I = np.concatenate((I, np.array([INPUT[1]])))\n",
    "        R = np.concatenate((R, np.array([INPUT[2]])))\n",
    "        D = np.concatenate((D, np.array([INPUT[3]])))\n",
    "        [INPUT,ts] = Stochastic_equations_HKO(INPUT,ts)\n",
    "        counter+=1\n",
    "        #print(INPUT)\n",
    "        T = np.concatenate((T, np.array([T[counter-1]])))\n",
    "        S = np.concatenate((S, np.array([INPUT[0]])))\n",
    "        I = np.concatenate((I, np.array([INPUT[1]])))\n",
    "        R = np.concatenate((R, np.array([INPUT[2]])))\n",
    "        D = np.concatenate((D, np.array([INPUT[3]])))\n",
    "    return [T,S,I,R,D]\n",
    "\n",
    "def HKO(INPUT):\n",
    "    start = timer()\n",
    "    [T,S,I,R,D] = Stochastic_Iteration_HKO(INPUT)\n",
    "    end = timer()\n",
    "    completion_time = {end - start}\n",
    "    #print(\"I just did a HKO run with\", np.sum(INPUT), \"people, that took\", completion_time, \"long\")\n",
    "    return [T,S,I,R,D], sorted(completion_time)[0]"
   ]
  },
  {
   "cell_type": "markdown",
   "id": "7f146f79-bc9d-4f84-aad3-918f8c1d2f3f",
   "metadata": {},
   "source": [
    "Below we make the tools for repeating these methods"
   ]
  },
  {
   "cell_type": "code",
   "execution_count": 4,
   "id": "e8ebdc4f-6a92-4089-a0c7-c8e333010812",
   "metadata": {
    "tags": []
   },
   "outputs": [],
   "source": [
    "def Method_repeater(method, repeats, INPUT):\n",
    "    completion_times = []\n",
    "    for i in range(repeats):\n",
    "        method_execution = method(INPUT)\n",
    "        completion_times = np.append(completion_times, [method_execution[-1]])\n",
    "    return completion_times"
   ]
  },
  {
   "cell_type": "markdown",
   "id": "6efec807-05fb-4c5c-82d9-8918ebb08489",
   "metadata": {},
   "source": [
    "Below is a method for us to run test on the methods. We include all our parameters in here and vary "
   ]
  },
  {
   "cell_type": "code",
   "execution_count": 5,
   "id": "36e12928-a5b3-4efa-a94e-619a7866fda2",
   "metadata": {
    "tags": []
   },
   "outputs": [],
   "source": [
    "def Run_Experiment(pop_sizes, repeater_method, repeater_repeats):\n",
    "    data = []\n",
    "    averages = []\n",
    "    upper_quart = []\n",
    "    lower_quart = []\n",
    "    variance = []\n",
    "    for i in pop_sizes:\n",
    "        N0 = np.array(i)\n",
    "        I0 = [np.floor((np.sum(mu) * np.sum(N0)) / (np.sum(gamma) * 3)), np.floor((np.sum(mu) * np.sum(N0)) / (np.sum(gamma) * 3)), np.floor((np.sum(mu) * np.sum(N0)) / (np.sum(gamma) * 3))]\n",
    "        S0 = [np.floor((np.sum(gamma) * np.sum(N0)) / (np.sum(beta) * 3)), np.floor((np.sum(gamma) * np.sum(N0)) / (np.sum(beta) * 3)), np.floor((np.sum(gamma) * np.sum(N0)) / (np.sum(beta) * 3))]\n",
    "        R0 = [np.floor((np.sum(N0) - (np.sum(S0) + np.sum(I0)))/3), np.floor((np.sum(N0) - (np.sum(S0) + np.sum(I0)))/3), np.floor((np.sum(N0) - (np.sum(S0) + np.sum(I0)))/3)]\n",
    "        D0 = [0, 0, 0]\n",
    "        INPUT = [S0,I0,R0,D0]\n",
    "        new_data = Method_repeater(repeater_method, repeater_repeats, INPUT)\n",
    "        data = np.concatenate((data, new_data))\n",
    "        averages = np.append(averages, np.mean(new_data))\n",
    "        upper_quart = np.append(upper_quart, np.quantile(new_data, 0.75))\n",
    "        lower_quart = np.append(lower_quart, np.quantile(new_data, 0.25))\n",
    "        variance = np.append(variance, np.var(new_data))\n",
    "    return lower_quart, averages, upper_quart, variance, data"
   ]
  },
  {
   "cell_type": "code",
   "execution_count": 6,
   "id": "a50360c1-0565-4299-adde-51f99dbe8c21",
   "metadata": {
    "tags": []
   },
   "outputs": [
    {
     "name": "stdout",
     "output_type": "stream",
     "text": [
      "Gillespie done {8446.774482700042}\n",
      "HKO done {7532.995654600207}\n"
     ]
    }
   ],
   "source": [
    "Run_Experiment([[3,3,2]], Gillespie, 3)\n",
    "Run_Experiment([[3,3,2]], HKO, 3)\n",
    "Population_series = [[3,3,2]]\n",
    "Pop_counter = 8\n",
    "while Pop_counter < 10000:\n",
    "    Population_series = np.append(Population_series, [[Pop_counter, Pop_counter, Pop_counter]], axis = 0)\n",
    "    Pop_counter = Pop_counter * 2\n",
    "start = timer()\n",
    "Gillespie_data = Run_Experiment(Population_series, Gillespie, 50)\n",
    "end = timer()\n",
    "print(\"Gillespie done\", {end - start})\n",
    "\n",
    "start = timer()\n",
    "HKO_data = Run_Experiment(Population_series, HKO, 50)\n",
    "end = timer()\n",
    "print(\"HKO done\", {end - start})"
   ]
  },
  {
   "cell_type": "code",
   "execution_count": 7,
   "id": "96723895-997c-4176-8656-b1622658f057",
   "metadata": {
    "tags": []
   },
   "outputs": [
    {
     "name": "stdout",
     "output_type": "stream",
     "text": [
      "8\n",
      "24\n",
      "48\n",
      "96\n",
      "192\n",
      "384\n",
      "768\n",
      "1536\n",
      "3072\n",
      "6144\n",
      "12288\n",
      "24576\n"
     ]
    },
    {
     "data": {
      "image/png": "[encoded data removed]",
      "text/plain": [
       "<Figure size 640x480 with 1 Axes>"
      ]
     },
     "metadata": {},
     "output_type": "display_data"
    }
   ],
   "source": [
    "Population_graph_series = []\n",
    "for i in Population_series:\n",
    "    Population_graph_series = np.append(Population_graph_series, np.sum(i))\n",
    "plt.errorbar(Population_graph_series, Gillespie_data[1], label = 'Gillespie')\n",
    "plt.errorbar(Population_graph_series, HKO_data[1], label = 'HKO')\n",
    "plt.ylabel ('Time taken (seconds)')\n",
    "plt.xlabel ('Total population size')\n",
    "plt.xscale(\"log\", base = 2)\n",
    "plt.yscale(\"log\")\n",
    "plt.legend()\n",
    "plt.savefig('Efficiency study (3 classes)')\n",
    "plt.show()"
   ]
  },
  {
   "cell_type": "markdown",
   "id": "eca56927-40b8-45fe-8963-44e429781fb4",
   "metadata": {},
   "source": [
    "Below we see the average time take for a population of size $2^{14}$"
   ]
  },
  {
   "cell_type": "code",
   "execution_count": 8,
   "id": "da4eea53-d186-4240-a750-0f44c4ece58b",
   "metadata": {
    "tags": []
   },
   "outputs": [
    {
     "name": "stdout",
     "output_type": "stream",
     "text": [
      "121.59170431001112\n",
      "120.76008532600477\n"
     ]
    }
   ],
   "source": [
    "print(Gillespie_data[1][-1])\n",
    "print(HKO_data[1][-1])"
   ]
  },
  {
   "cell_type": "markdown",
   "id": "2303e212-243c-4523-840c-e7cd89edfb4f",
   "metadata": {
    "tags": []
   },
   "source": [
    "And the corresponding standard deviation"
   ]
  },
  {
   "cell_type": "code",
   "execution_count": 9,
   "id": "f70e84d0-d808-48b8-9a73-6957b52eae6e",
   "metadata": {
    "tags": []
   },
   "outputs": [
    {
     "name": "stdout",
     "output_type": "stream",
     "text": [
      "11.745091928259122\n",
      "11.030777367717763\n"
     ]
    }
   ],
   "source": [
    "print(np.sqrt(Gillespie_data[3][-1]))\n",
    "print(np.sqrt(HKO_data[3][-1]))"
   ]
  },
  {
   "cell_type": "markdown",
   "id": "0c6e65a1-7d64-40fb-8e63-2cfb41903de9",
   "metadata": {},
   "source": [
    "Below we have histograms for the time taken for all our runs of the HKO and Gillespie algorithm at population size $2^{14}$"
   ]
  },
  {
   "cell_type": "code",
   "execution_count": 34,
   "id": "3f7e3cdd-3e2d-4b20-b7f9-259aac774bee",
   "metadata": {
    "tags": []
   },
   "outputs": [
    {
     "data": {
      "image/png": "[encoded data removed]",
      "text/plain": [
       "<Figure size 640x480 with 2 Axes>"
      ]
     },
     "metadata": {},
     "output_type": "display_data"
    }
   ],
   "source": [
    "plt.subplot(2, 1, 1)\n",
    "plt.hist(Gillespie_data[4][-50:,], bins = 10)\n",
    "plt.ylabel ('Frequency')\n",
    "plt.xlabel ('Time taken for Gillespie algorithm (s)')\n",
    "plt.subplot(2, 1, 2)\n",
    "plt.hist(HKO_data[4][-50:,], bins = 10)\n",
    "plt.ylabel ('Frequency')\n",
    "plt.xlabel ('Time taken for HKO algorithm (s)')\n",
    "plt.tight_layout()\n",
    "plt.savefig('Histograms efficiency study (3 classes)')\n",
    "plt.show()"
   ]
  },
  {
   "cell_type": "code",
   "execution_count": null,
   "id": "81163be8-658e-4060-9579-b59cbe0f32a9",
   "metadata": {},
   "outputs": [],
   "source": []
  }
 ],
 "metadata": {
  "kernelspec": {
   "display_name": "Python 3 (ipykernel)",
   "language": "python",
   "name": "python3"
  },
  "language_info": {
   "codemirror_mode": {
    "name": "ipython",
    "version": 3
   },
   "file_extension": ".py",
   "mimetype": "text/x-python",
   "name": "python",
   "nbconvert_exporter": "python",
   "pygments_lexer": "ipython3",
   "version": "3.11.5"
  }
 },
 "nbformat": 4,
 "nbformat_minor": 5
}
